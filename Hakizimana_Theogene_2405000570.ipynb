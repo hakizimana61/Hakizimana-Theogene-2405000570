{
  "nbformat": 4,
  "nbformat_minor": 0,
  "metadata": {
    "colab": {
      "provenance": [],
      "authorship_tag": "ABX9TyPzrnOo0MKJCrmgWML0Cw8c",
      "include_colab_link": true
    },
    "kernelspec": {
      "name": "python3",
      "display_name": "Python 3"
    },
    "language_info": {
      "name": "python"
    }
  },
  "cells": [
    {
      "cell_type": "markdown",
      "metadata": {
        "id": "view-in-github",
        "colab_type": "text"
      },
      "source": [
        "<a href=\"https://colab.research.google.com/github/hakizimana61/Hakizimana-Theogene-2405000570/blob/main/Hakizimana_Theogene_2405000570.ipynb\" target=\"_parent\"><img src=\"https://colab.research.google.com/assets/colab-badge.svg\" alt=\"Open In Colab\"/></a>"
      ]
    },
    {
      "cell_type": "code",
      "execution_count": 3,
      "metadata": {
        "colab": {
          "base_uri": "https://localhost:8080/"
        },
        "id": "eEG-I56fTebf",
        "outputId": "41609a24-45ae-46b2-cc05-c604a7af62c5"
      },
      "outputs": [
        {
          "output_type": "stream",
          "name": "stdout",
          "text": [
            "Requirement already satisfied: requests in /usr/local/lib/python3.11/dist-packages (2.32.3)\n",
            "Requirement already satisfied: charset-normalizer<4,>=2 in /usr/local/lib/python3.11/dist-packages (from requests) (3.4.2)\n",
            "Requirement already satisfied: idna<4,>=2.5 in /usr/local/lib/python3.11/dist-packages (from requests) (3.10)\n",
            "Requirement already satisfied: urllib3<3,>=1.21.1 in /usr/local/lib/python3.11/dist-packages (from requests) (2.4.0)\n",
            "Requirement already satisfied: certifi>=2017.4.17 in /usr/local/lib/python3.11/dist-packages (from requests) (2025.7.9)\n"
          ]
        }
      ],
      "source": [
        "import requests;\n",
        "import json;\n",
        "!pip install requests\n"
      ]
    },
    {
      "cell_type": "code",
      "source": [
        "results = requests.get ('https://api.stackexchange.com/docs/questions#order=desc&sort=activity&filter=default&site=stackoverflow&run=true')\n",
        "print (results)"
      ],
      "metadata": {
        "colab": {
          "base_uri": "https://localhost:8080/"
        },
        "id": "kgum-mpZae0q",
        "outputId": "915adebe-873d-4ff2-b653-a0c714a414a8"
      },
      "execution_count": 6,
      "outputs": [
        {
          "output_type": "stream",
          "name": "stdout",
          "text": [
            "<Response [200]>\n"
          ]
        }
      ]
    },
    {
      "cell_type": "code",
      "source": [
        "import requests\n",
        "import json\n",
        "from IPython.display import display, HTML\n",
        "\n",
        "# Fetch data from Stack Overflow API\n",
        "url = 'https://api.stackexchange.com/2.3/questions?order=desc&sort=activity&site=stackoverflow'\n",
        "response = requests.get(url)\n",
        "\n",
        "if response.status_code == 200:\n",
        "    data = response.json()\n",
        "\n",
        "    questions = []\n",
        "    unanswered_count = 0  # Counter for unanswered questions\n",
        "\n",
        "    for item in data.get('items', []):\n",
        "        question_info = {\n",
        "            'title': item.get('title'),\n",
        "            'link': item.get('link'),\n",
        "            'answer_count': item.get('answer_count')\n",
        "        }\n",
        "        questions.append(question_info)\n",
        "\n",
        "        # Count if the question has no answers\n",
        "        if item.get('answer_count') == 0:\n",
        "            unanswered_count += 1\n",
        "\n",
        "    # Print clickable question links in Colab\n",
        "    for q in questions:\n",
        "        display(HTML(f\"<a href='{q['link']}' target='_blank'>{q['title']} (Answers: {q['answer_count']})</a>\"))\n",
        "\n",
        "    # Print the total number of unanswered questions\n",
        "    print(f\"\\nTotal questions with no answers: {unanswered_count}\")\n",
        "\n",
        "else:\n",
        "    print(f\"Error fetching data: {response.status_code}\")"
      ],
      "metadata": {
        "colab": {
          "base_uri": "https://localhost:8080/",
          "height": 642
        },
        "id": "qOHOcS4ZhI_Z",
        "outputId": "9e45eae5-3153-4f77-d752-b6c667ff4a3a"
      },
      "execution_count": 7,
      "outputs": [
        {
          "output_type": "display_data",
          "data": {
            "text/plain": [
              "<IPython.core.display.HTML object>"
            ],
            "text/html": [
              "<a href='https://stackoverflow.com/questions/24689252/coldfusion-get-the-date-for-next-monday' target='_blank'>coldfusion get the date for next Monday (Answers: 2)</a>"
            ]
          },
          "metadata": {}
        },
        {
          "output_type": "display_data",
          "data": {
            "text/plain": [
              "<IPython.core.display.HTML object>"
            ],
            "text/html": [
              "<a href='https://stackoverflow.com/questions/79699249/advantages-in-using-different-ports-in-networking' target='_blank'>Advantages in using different ports in networking (Answers: 0)</a>"
            ]
          },
          "metadata": {}
        },
        {
          "output_type": "display_data",
          "data": {
            "text/plain": [
              "<IPython.core.display.HTML object>"
            ],
            "text/html": [
              "<a href='https://stackoverflow.com/questions/79699248/using-for-loop-to-render-image-in-background-image' target='_blank'>using for loop to render image in background image (Answers: 0)</a>"
            ]
          },
          "metadata": {}
        },
        {
          "output_type": "display_data",
          "data": {
            "text/plain": [
              "<IPython.core.display.HTML object>"
            ],
            "text/html": [
              "<a href='https://stackoverflow.com/questions/78299605/cannot-find-module-google-generative-ai' target='_blank'>Cannot find module &#39;@google/generative-ai&#39; (Answers: 3)</a>"
            ]
          },
          "metadata": {}
        },
        {
          "output_type": "display_data",
          "data": {
            "text/plain": [
              "<IPython.core.display.HTML object>"
            ],
            "text/html": [
              "<a href='https://stackoverflow.com/questions/79699052/approval-stage-in-azure-devops' target='_blank'>Approval stage in Azure Devops (Answers: 1)</a>"
            ]
          },
          "metadata": {}
        },
        {
          "output_type": "display_data",
          "data": {
            "text/plain": [
              "<IPython.core.display.HTML object>"
            ],
            "text/html": [
              "<a href='https://stackoverflow.com/questions/24365337/what-is-the-most-efficient-way-to-install-a-large-mysql-database' target='_blank'>What is the most efficient way to install a large mysql database (Answers: 1)</a>"
            ]
          },
          "metadata": {}
        },
        {
          "output_type": "display_data",
          "data": {
            "text/plain": [
              "<IPython.core.display.HTML object>"
            ],
            "text/html": [
              "<a href='https://stackoverflow.com/questions/56499928/web-server-failed-to-start-port-8080-was-already-in-use-spring-boot-microservi' target='_blank'>Web server failed to start. Port 8080 was already in use. Spring Boot microservice (Answers: 27)</a>"
            ]
          },
          "metadata": {}
        },
        {
          "output_type": "display_data",
          "data": {
            "text/plain": [
              "<IPython.core.display.HTML object>"
            ],
            "text/html": [
              "<a href='https://stackoverflow.com/questions/79698381/adf-copy-activity-mapping-complete-object-within-array' target='_blank'>ADF copy activity mapping complete object within array (Answers: 1)</a>"
            ]
          },
          "metadata": {}
        },
        {
          "output_type": "display_data",
          "data": {
            "text/plain": [
              "<IPython.core.display.HTML object>"
            ],
            "text/html": [
              "<a href='https://stackoverflow.com/questions/79699244/problem-type-id-string-is-missing-the-following-properties-from-type-p' target='_blank'>Problem: Type &#39;{ id: string; }&#39; is missing the following properties from type &#39;Promise&lt;any&gt; (Answers: 0)</a>"
            ]
          },
          "metadata": {}
        },
        {
          "output_type": "display_data",
          "data": {
            "text/plain": [
              "<IPython.core.display.HTML object>"
            ],
            "text/html": [
              "<a href='https://stackoverflow.com/questions/79698856/best-ai-method-to-read-and-query-a-large-pdf-document' target='_blank'>Best AI method to read and query a large PDF document (Answers: 0)</a>"
            ]
          },
          "metadata": {}
        },
        {
          "output_type": "display_data",
          "data": {
            "text/plain": [
              "<IPython.core.display.HTML object>"
            ],
            "text/html": [
              "<a href='https://stackoverflow.com/questions/79699181/react-native-ios-pod-issue' target='_blank'>React Native iOS pod issue (Answers: 0)</a>"
            ]
          },
          "metadata": {}
        },
        {
          "output_type": "display_data",
          "data": {
            "text/plain": [
              "<IPython.core.display.HTML object>"
            ],
            "text/html": [
              "<a href='https://stackoverflow.com/questions/79699186/how-to-link-the-autocomplete-dropdown-item-to-a-subsection-of-same-page-without' target='_blank'>How to link the Autocomplete dropdown item to a subsection of same page without displaying full url name (Answers: 1)</a>"
            ]
          },
          "metadata": {}
        },
        {
          "output_type": "display_data",
          "data": {
            "text/plain": [
              "<IPython.core.display.HTML object>"
            ],
            "text/html": [
              "<a href='https://stackoverflow.com/questions/77951785/getting-write-operation-failed-warning-with-refs' target='_blank'>Getting write operation failed warning with refs (Answers: 2)</a>"
            ]
          },
          "metadata": {}
        },
        {
          "output_type": "display_data",
          "data": {
            "text/plain": [
              "<IPython.core.display.HTML object>"
            ],
            "text/html": [
              "<a href='https://stackoverflow.com/questions/79699242/how-can-i-code-in-godot-4-3-that-if-enemy-just-see-main-player-then-play-a-anima' target='_blank'>how can i code in godot 4.3 that if enemy just see main player then play a animation? (Answers: 0)</a>"
            ]
          },
          "metadata": {}
        },
        {
          "output_type": "display_data",
          "data": {
            "text/plain": [
              "<IPython.core.display.HTML object>"
            ],
            "text/html": [
              "<a href='https://stackoverflow.com/questions/79698928/how-to-get-the-id-from-url-using-playwright' target='_blank'>How to get the ID from URL using Playwright? (Answers: 1)</a>"
            ]
          },
          "metadata": {}
        },
        {
          "output_type": "display_data",
          "data": {
            "text/plain": [
              "<IPython.core.display.HTML object>"
            ],
            "text/html": [
              "<a href='https://stackoverflow.com/questions/79699241/why-webtransport-cannot-connect-to-my-server' target='_blank'>Why WebTransport cannot connect to my server? (Answers: 0)</a>"
            ]
          },
          "metadata": {}
        },
        {
          "output_type": "display_data",
          "data": {
            "text/plain": [
              "<IPython.core.display.HTML object>"
            ],
            "text/html": [
              "<a href='https://stackoverflow.com/questions/79699240/vs-code-python-extension-injects-incorrect-start-up-script-oh-my-posh-variables' target='_blank'>VS Code Python extension injects incorrect start up script oh-my-posh variables with shell integration (Answers: 0)</a>"
            ]
          },
          "metadata": {}
        },
        {
          "output_type": "display_data",
          "data": {
            "text/plain": [
              "<IPython.core.display.HTML object>"
            ],
            "text/html": [
              "<a href='https://stackoverflow.com/questions/79699227/is-the-finish-awaited-process-executed-using-multi-thread-or-interrupt-function' target='_blank'>Is the finish awaited process executed using multi thread or interrupt function in this scenario (Answers: 0)</a>"
            ]
          },
          "metadata": {}
        },
        {
          "output_type": "display_data",
          "data": {
            "text/plain": [
              "<IPython.core.display.HTML object>"
            ],
            "text/html": [
              "<a href='https://stackoverflow.com/questions/79699180/type-checking-in-vite-react-project-why-do-i-need-tsc-when-tsserver-is-already' target='_blank'>Type Checking in Vite/React Project: Why do I need tsc when tsserver is already working? (Answers: 0)</a>"
            ]
          },
          "metadata": {}
        },
        {
          "output_type": "display_data",
          "data": {
            "text/plain": [
              "<IPython.core.display.HTML object>"
            ],
            "text/html": [
              "<a href='https://stackoverflow.com/questions/79699235/django-cannot-create-record-with-correct-foreign-key-to-charfield-with-spaces-in' target='_blank'>Django cannot create record with correct foreign key to CharField with spaces in middle - getting surrounded by single and double quotes like &quot;&#39;a a&#39;&quot; (Answers: 1)</a>"
            ]
          },
          "metadata": {}
        },
        {
          "output_type": "display_data",
          "data": {
            "text/plain": [
              "<IPython.core.display.HTML object>"
            ],
            "text/html": [
              "<a href='https://stackoverflow.com/questions/79699237/how-to-properly-remove-outliers-in-sensor-data' target='_blank'>How to properly remove outliers in sensor data? (Answers: 0)</a>"
            ]
          },
          "metadata": {}
        },
        {
          "output_type": "display_data",
          "data": {
            "text/plain": [
              "<IPython.core.display.HTML object>"
            ],
            "text/html": [
              "<a href='https://stackoverflow.com/questions/79699238/is-there-any-possible-way-of-using-gpu-for-ai-ml-purposes-in-laptops-which-dont' target='_blank'>Is there any possible way of using gpu for AI/ML purposes in laptops which dont have nvidia chip set or any other alternative way? (Answers: 0)</a>"
            ]
          },
          "metadata": {}
        },
        {
          "output_type": "display_data",
          "data": {
            "text/plain": [
              "<IPython.core.display.HTML object>"
            ],
            "text/html": [
              "<a href='https://stackoverflow.com/questions/79698880/java-awt-textarea-messes-up-the-window-size' target='_blank'>Java awt TextArea messes up the window size (Answers: 0)</a>"
            ]
          },
          "metadata": {}
        },
        {
          "output_type": "display_data",
          "data": {
            "text/plain": [
              "<IPython.core.display.HTML object>"
            ],
            "text/html": [
              "<a href='https://stackoverflow.com/questions/79698941/not-able-to-call-fastmcp-server-using-http-or-sse-protocol' target='_blank'>Not able to call FastMCP server using http or SSE protocol (Answers: 0)</a>"
            ]
          },
          "metadata": {}
        },
        {
          "output_type": "display_data",
          "data": {
            "text/plain": [
              "<IPython.core.display.HTML object>"
            ],
            "text/html": [
              "<a href='https://stackoverflow.com/questions/79699234/why-argoworkflows-multi-app-docker-build-image-with-kaniko-fails' target='_blank'>why Argoworkflows multi-app-docker-build image with kaniko fails (Answers: 0)</a>"
            ]
          },
          "metadata": {}
        },
        {
          "output_type": "display_data",
          "data": {
            "text/plain": [
              "<IPython.core.display.HTML object>"
            ],
            "text/html": [
              "<a href='https://stackoverflow.com/questions/79272316/cleaning-vscode-profiles-folder-workspaces' target='_blank'>Cleaning VSCode profiles Folder &amp; Workspaces (Answers: 2)</a>"
            ]
          },
          "metadata": {}
        },
        {
          "output_type": "display_data",
          "data": {
            "text/plain": [
              "<IPython.core.display.HTML object>"
            ],
            "text/html": [
              "<a href='https://stackoverflow.com/questions/79699231/import-module-installed-with-npm-without-node-js' target='_blank'>Import module installed with npm without node.js (Answers: 0)</a>"
            ]
          },
          "metadata": {}
        },
        {
          "output_type": "display_data",
          "data": {
            "text/plain": [
              "<IPython.core.display.HTML object>"
            ],
            "text/html": [
              "<a href='https://stackoverflow.com/questions/79674218/how-to-prevent-filtered-component-from-re-rendering-over-and-over' target='_blank'>How to prevent filtered component from re-rendering over and over? (Answers: 2)</a>"
            ]
          },
          "metadata": {}
        },
        {
          "output_type": "display_data",
          "data": {
            "text/plain": [
              "<IPython.core.display.HTML object>"
            ],
            "text/html": [
              "<a href='https://stackoverflow.com/questions/79698656/cannot-load-fastai-pkl-model-locally-due-to-missing-ampmode-and-module-version' target='_blank'>Cannot load FastAI .pkl model locally due to missing AMPMode and module version issues (Answers: 1)</a>"
            ]
          },
          "metadata": {}
        },
        {
          "output_type": "display_data",
          "data": {
            "text/plain": [
              "<IPython.core.display.HTML object>"
            ],
            "text/html": [
              "<a href='https://stackoverflow.com/questions/79696592/sas-conditionally-summing-a-column-without-having-the-lead-funtion' target='_blank'>SAS: Conditionally summing a column without having the lead funtion (Answers: 2)</a>"
            ]
          },
          "metadata": {}
        },
        {
          "output_type": "stream",
          "name": "stdout",
          "text": [
            "\n",
            "Total questions with no answers: 16\n"
          ]
        }
      ]
    }
  ]
}